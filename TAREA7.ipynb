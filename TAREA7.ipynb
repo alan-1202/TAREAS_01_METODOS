{
  "nbformat": 4,
  "nbformat_minor": 0,
  "metadata": {
    "colab": {
      "name": "TAREA7.ipynb",
      "provenance": []
    },
    "kernelspec": {
      "name": "python3",
      "display_name": "Python 3"
    }
  },
  "cells": [
    {
      "cell_type": "code",
      "metadata": {
        "id": "iCvlTCwqnp8s",
        "outputId": "b96ec2ca-8b4b-401f-9d64-0b1391d7b292",
        "colab": {
          "base_uri": "https://localhost:8080/"
        }
      },
      "source": [
        "  e= int(input(\"¿Cual es su edad?\"))\n",
        "  if e <=4:\n",
        "    print(\"Pase gratis\")\n",
        "\n",
        "  elif e>=5 and e<=16:\n",
        "    print(\"Paga $50\")\n",
        "    print(\"¿Cuenta con credencial?\")\n",
        "    print(\"1-Si\")\n",
        "    print(\"2-No\")\n",
        "    es= int(input(\":\"))\n",
        "    if es==1:\n",
        "      print(\"Paga $45\")\n",
        "    if es==2:\n",
        "      print(\"Paga $50\")\n",
        "\n",
        "  elif e>= 17:\n",
        "    print(\"Paga $100\")\n",
        "    print(\"¿Cual es su ocupacion?\")\n",
        "    print(\"1-Estudiante con credencial\")\n",
        "    print(\"2-Docente con credencial\")\n",
        "    print(\"3-INAPAM\")\n",
        "    oc= int(input(\":\"))\n",
        "    if oc==1:\n",
        "      print(\"Paga $90\")\n",
        "    elif oc==2:\n",
        "      print(\"Paga $70\")\n",
        "    elif oc==3:\n",
        "      print(\"Paga $50\")"
      ],
      "execution_count": 23,
      "outputs": [
        {
          "output_type": "stream",
          "text": [
            "¿Cual es su edad?20\n",
            "Paga $100\n",
            "¿Cual es su ocupacion?\n",
            "1-Estudiante con credencial\n",
            "2-Docente con credencial\n",
            "3-INAPAM\n",
            ":2\n",
            "Paga $70\n"
          ],
          "name": "stdout"
        }
      ]
    }
  ]
}