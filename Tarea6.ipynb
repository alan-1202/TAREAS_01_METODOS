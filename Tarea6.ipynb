{
  "nbformat": 4,
  "nbformat_minor": 0,
  "metadata": {
    "colab": {
      "name": "Tarea7.ipynb",
      "provenance": []
    },
    "kernelspec": {
      "name": "python3",
      "display_name": "Python 3"
    }
  },
  "cells": [
    {
      "cell_type": "code",
      "metadata": {
        "id": "a2rlQVWONnqn",
        "outputId": "a016b8bc-2b70-4512-d3f1-d6ca4b541bff",
        "colab": {
          "base_uri": "https://localhost:8080/"
        }
      },
      "source": [
        "s=float(input(\"Ingrese su salario:\"))\n",
        "\n",
        "if s<=10000:\n",
        "  se=s*0.05\n",
        "  print(\"El impusto es del 5%:\",se)\n",
        "  print(\"El salario con impusto es de:\",s-se)\n",
        "  print(s-se<=10000)\n",
        "\n",
        "elif s>=10000 and s<15000:\n",
        "  se=s*0.10\n",
        "  print(\"El impusto es del 10%:\",se)\n",
        "  print(\"El salario con impusto es de:\",s-se)\n",
        "  print(s-se<=15000)\n",
        "\n",
        "elif s>=15000 and s<20000:\n",
        "  se=s*0.15\n",
        "  print(\"El impusto es del 15%:\",se)\n",
        "  print(\"El salario con impusto es de:\",s-se)\n",
        "  print(s-se<=20000)\n",
        "\n",
        "elif s>=20000:\n",
        "  se=s*0.18\n",
        "  print(\"El impusto es del 18%:\",se)\n",
        "  print(\"El salario con impusto es de:\",s-se)\n",
        "  print(s-se>=10000)"
      ],
      "execution_count": 2,
      "outputs": [
        {
          "output_type": "stream",
          "text": [
            "Ingrese su salario:25000\n",
            "El impusto es del 18%: 4500.0\n",
            "El salario con impusto es de: 20500.0\n",
            "True\n"
          ],
          "name": "stdout"
        }
      ]
    }
  ]
}