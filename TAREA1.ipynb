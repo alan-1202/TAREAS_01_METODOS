{
  "nbformat": 4,
  "nbformat_minor": 0,
  "metadata": {
    "colab": {
      "name": "Untitled1.ipynb",
      "provenance": []
    },
    "kernelspec": {
      "name": "python3",
      "display_name": "Python 3"
    }
  },
  "cells": [
    {
      "cell_type": "markdown",
      "metadata": {
        "id": "fCdq_zlEhWRX"
      },
      "source": [
        "PROBLEMA 1"
      ]
    },
    {
      "cell_type": "code",
      "metadata": {
        "id": "1qNRlndcgXyS"
      },
      "source": [
        "a=int(input(\"Introduce un numero:\"))\n",
        "b = a % 2\n",
        "if b == 0:\n",
        "  print(\"Es un numero par\")\n",
        "else:\n",
        "  print(\"Es un numero impar\")\n",
        "\n",
        "print(\"FIN DEL PROGRAMA\")\n"
      ],
      "execution_count": null,
      "outputs": []
    }
  ]
}