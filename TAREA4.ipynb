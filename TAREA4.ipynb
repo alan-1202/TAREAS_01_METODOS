{
  "nbformat": 4,
  "nbformat_minor": 0,
  "metadata": {
    "colab": {
      "name": "TAREA4.ipynb",
      "provenance": []
    },
    "kernelspec": {
      "name": "python3",
      "display_name": "Python 3"
    }
  },
  "cells": [
    {
      "cell_type": "code",
      "metadata": {
        "id": "Zwpgxtd-sCWt",
        "outputId": "1863de0a-734b-4849-dfd1-b3363596a1de",
        "colab": {
          "base_uri": "https://localhost:8080/"
        }
      },
      "source": [
        " while 1: \n",
        "  x = float(input(\"INDICA EL VALOR DE x:\"))\n",
        "  y = float(input(\"INDICA EL VALOR DE y:\"))\n",
        "\n",
        "  print(\"SELECCIONA UNA OPCION:\")\n",
        "  print(\"1-SUMA\")\n",
        "  print(\"2-RESTA\")\n",
        "  print(\"3-MULTIPLICACION\")\n",
        "  print(\"4-DIVISION\")\n",
        "  a= int(input(\"Elige una opcion:\"))\n",
        "  if a==1:\n",
        "    r= x+y\n",
        "    print(r)\n",
        "  elif a==2:\n",
        "    r= x-y\n",
        "    print(r)\n",
        "  elif a==3:\n",
        "    r= x*y\n",
        "    print(r)\n",
        "  elif a==4 and y!=0:\n",
        "    r= x/y\n",
        "    print(r)\n",
        "    break\n",
        "  else:\n",
        "    print(\"opcion no encontrada\")\n"
      ],
      "execution_count": 65,
      "outputs": [
        {
          "output_type": "stream",
          "text": [
            "INDICA EL VALOR DE x:5\n",
            "INDICA EL VALOR DE y:0\n",
            "SELECCIONA UNA OPCION:\n",
            "1-SUMA\n",
            "2-RESTA\n",
            "3-MULTIPLICACION\n",
            "4-DIVISION\n",
            "Elige una opcion:4\n",
            "opcion no encontrada\n",
            "INDICA EL VALOR DE x:2\n",
            "INDICA EL VALOR DE y:2\n",
            "SELECCIONA UNA OPCION:\n",
            "1-SUMA\n",
            "2-RESTA\n",
            "3-MULTIPLICACION\n",
            "4-DIVISION\n",
            "Elige una opcion:4\n",
            "1.0\n"
          ],
          "name": "stdout"
        }
      ]
    }
  ]
}