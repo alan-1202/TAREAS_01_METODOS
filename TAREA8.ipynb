{
  "nbformat": 4,
  "nbformat_minor": 0,
  "metadata": {
    "colab": {
      "name": "TAREA8.ipynb",
      "provenance": []
    },
    "kernelspec": {
      "name": "python3",
      "display_name": "Python 3"
    }
  },
  "cells": [
    {
      "cell_type": "code",
      "metadata": {
        "id": "gXHAkd3O6t5Y",
        "outputId": "2387eaa0-e3ab-4cdb-9331-dfd1b4d451ec",
        "colab": {
          "base_uri": "https://localhost:8080/"
        }
      },
      "source": [
        "a= int(input(\"Introduzca un numero:\"))\n",
        "\n",
        "for i in range (0,a,1):\n",
        "  for j in range (0,i+1,1):\n",
        "    print(\"*\",end=\"\")\n",
        "  print(\"\")\n",
        "\n",
        "print(\"FIN DEL PROGRAMA\")"
      ],
      "execution_count": 14,
      "outputs": [
        {
          "output_type": "stream",
          "text": [
            "Introduzca un numero:10\n",
            "*\n",
            "**\n",
            "***\n",
            "****\n",
            "*****\n",
            "******\n",
            "*******\n",
            "********\n",
            "*********\n",
            "**********\n",
            "FIN DEL PROGRAMA\n"
          ],
          "name": "stdout"
        }
      ]
    }
  ]
}