{
  "nbformat": 4,
  "nbformat_minor": 0,
  "metadata": {
    "colab": {
      "name": "TAREA2.ipynb",
      "provenance": []
    },
    "kernelspec": {
      "name": "python3",
      "display_name": "Python 3"
    }
  },
  "cells": [
    {
      "cell_type": "markdown",
      "metadata": {
        "id": "hPBTU0vBofcz"
      },
      "source": [
        "PROBLEMA 2"
      ]
    },
    {
      "cell_type": "code",
      "metadata": {
        "id": "UFPbDS74jYqr"
      },
      "source": [
        "a= input(\"Introduzca una cadena de caracteres:\")\n",
        "b= int(input(\"Introduza un numero entero:\"))\n",
        "\n",
        "for i in range (1,b+1):\n",
        "  print(a)"
      ],
      "execution_count": null,
      "outputs": []
    }
  ]
}