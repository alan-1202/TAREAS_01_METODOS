{
  "nbformat": 4,
  "nbformat_minor": 0,
  "metadata": {
    "colab": {
      "name": "TAREA3.ipynb",
      "provenance": []
    },
    "kernelspec": {
      "name": "python3",
      "display_name": "Python 3"
    }
  },
  "cells": [
    {
      "cell_type": "code",
      "metadata": {
        "id": "6UVAWxQMpmKQ",
        "outputId": "4a973903-e2e7-495c-8070-27816b68c9a6",
        "colab": {
          "base_uri": "https://localhost:8080/"
        }
      },
      "source": [
        "a= int(input(\"Numero de horas:\"))\n",
        "b = 150\n",
        "c = a*b\n",
        "d = c*5\n",
        "e = c*20\n",
        "\n",
        "print(\"Pago del dia:\",c)\n",
        "print(\"Pago de la semana:\",d)\n",
        "print(\"Pago del mes:\",e)\n",
        "print(\"FIN DEL PROGRAMA\")"
      ],
      "execution_count": 7,
      "outputs": [
        {
          "output_type": "stream",
          "text": [
            "Numero de horas:7\n",
            "Pago del dia: 1050\n",
            "Pago de la semana: 5250\n",
            "Pago del mes: 21000\n",
            "FIN DEL PROGRAMA\n"
          ],
          "name": "stdout"
        }
      ]
    }
  ]
}