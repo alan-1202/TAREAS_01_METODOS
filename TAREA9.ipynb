{
  "nbformat": 4,
  "nbformat_minor": 0,
  "metadata": {
    "colab": {
      "name": "TAREA9.ipynb",
      "provenance": []
    },
    "kernelspec": {
      "name": "python3",
      "display_name": "Python 3"
    }
  },
  "cells": [
    {
      "cell_type": "code",
      "metadata": {
        "id": "6ILrKPXk-xi4",
        "outputId": "cf8ed596-7e9f-4891-ccea-42b1e8df2fba",
        "colab": {
          "base_uri": "https://localhost:8080/"
        }
      },
      "source": [
        "a= int(input(\"Coloca un numero positivo:\"))\n",
        "fact = 1\n",
        "\n",
        "for i in range (a):\n",
        "  fact= fact*a\n",
        "  a = a-1\n",
        "\n",
        "print (\"Su factorial es:\",fact)"
      ],
      "execution_count": 9,
      "outputs": [
        {
          "output_type": "stream",
          "text": [
            "Coloca un numero positivo:10\n",
            "Su factorial es: 3628800\n"
          ],
          "name": "stdout"
        }
      ]
    }
  ]
}