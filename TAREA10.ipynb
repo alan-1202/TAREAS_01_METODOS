{
  "nbformat": 4,
  "nbformat_minor": 0,
  "metadata": {
    "colab": {
      "name": "TAREA10.ipynb",
      "provenance": []
    },
    "kernelspec": {
      "name": "python3",
      "display_name": "Python 3"
    }
  },
  "cells": [
    {
      "cell_type": "code",
      "metadata": {
        "id": "7QCOnLpwCiMM",
        "outputId": "21d7f73c-2a57-41fa-d638-d56ccc012552",
        "colab": {
          "base_uri": "https://localhost:8080/"
        }
      },
      "source": [
        "radio= float(input(\"ESCRIBA EL RADIO DEL CIRCULO:\"))\n",
        "a= 3.1416*radio+radio\n",
        "print(\"El area del circulo es:\",a)\n",
        "h= float(input(\"Escriba la altura del cilindro:\"))\n",
        "v= a+h\n",
        "print(\"El volumen del cilindro es:\",v)\n",
        "\n",
        "\n",
        "\n"
      ],
      "execution_count": 19,
      "outputs": [
        {
          "output_type": "stream",
          "text": [
            "ESCRIBA EL RADIO DEL CIRCULO:6\n",
            "El area del circulo es: 24.8496\n",
            "Escriba la altura del cilindro:6\n",
            "El volumen del cilindro es: 30.8496\n"
          ],
          "name": "stdout"
        }
      ]
    }
  ]
}