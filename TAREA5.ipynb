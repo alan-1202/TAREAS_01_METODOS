{
  "nbformat": 4,
  "nbformat_minor": 0,
  "metadata": {
    "colab": {
      "name": "TAREA5.ipynb",
      "provenance": []
    },
    "kernelspec": {
      "name": "python3",
      "display_name": "Python 3"
    }
  },
  "cells": [
    {
      "cell_type": "code",
      "metadata": {
        "id": "gGmvGxcmHCuJ",
        "outputId": "d2c9e198-5551-4c9d-cd13-710f14a9d26d",
        "colab": {
          "base_uri": "https://localhost:8080/"
        }
      },
      "source": [
        "print(\"Peso de juguetes\")\n",
        "print(\"Payaso=150g\")\n",
        "print(\"Juegos de mesa=170g\")\n",
        "pa=0.15\n",
        "me=0.17\n",
        "a=int(input(\"Ingrese el numero de payasos:\"))\n",
        "b=int(input(\"Ingrese el numero de juegos de mesa:\"))\n",
        "\n",
        "c= (a*pa)+(b*me)\n",
        "\n",
        "if c>10:\n",
        "  print(\"Error\")\n",
        "  print(\"El pedido se paso por:\",c-10, \"kg\")\n",
        "  print(\"\",c<10)\n",
        "\n",
        "elif c<=10:\n",
        "  print(\"El pedido esta en regla\")\n"
      ],
      "execution_count": 16,
      "outputs": [
        {
          "output_type": "stream",
          "text": [
            "Peso de juguetes\n",
            "Payaso=150g\n",
            "Juegos de mesa=170g\n",
            "Ingrese el numero de payasos:35\n",
            "Ingrese el numero de juegos de mesa:31\n",
            "Error\n",
            "El pedido se paso por: 0.5199999999999996 kg\n",
            " False\n"
          ],
          "name": "stdout"
        }
      ]
    }
  ]
}